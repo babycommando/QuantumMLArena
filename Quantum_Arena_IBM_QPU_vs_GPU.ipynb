{
  "nbformat": 4,
  "nbformat_minor": 0,
  "metadata": {
    "colab": {
      "provenance": [],
      "gpuType": "T4"
    },
    "kernelspec": {
      "name": "python3",
      "display_name": "Python 3"
    },
    "language_info": {
      "name": "python"
    },
    "accelerator": "GPU"
  },
  "cells": [
    {
      "cell_type": "markdown",
      "source": [
        "\n",
        "# IBM Quantum vs T4 GPU Arena - Iris Dataset\n",
        "*Babycommando, 2024*\n",
        "\n",
        "This project aims to compare the performance of the **quantum-enhanced feature space** model using Qiskit on a real quantum backend using 100 qubits - with a classical neural network model running on a GPU using TensorFlow and Keras using a simple neural network with two hidden layers (64 and 32 neurons).\n",
        "\n",
        "The quantum-enhanced feature space model maps data into a high-dimensional space using quantum circuits, potentially capturing complex patterns that classical models might miss. By utilizing 100 qubits, this approach explores the capabilities of quantum processors to handle more intricate feature representations.\n",
        "\n",
        "This code includes steps to save and load your IBM Quantum Platform account, prepare the Iris dataset, train and evaluate both models, and visualize the results.\n",
        "\n",
        "\n"
      ],
      "metadata": {
        "id": "FMJXh2DVnfbE"
      }
    },
    {
      "cell_type": "markdown",
      "source": [
        "**⚠️ Important**:\n",
        "- **Make sure to run this instance with a GPU.**\n",
        "- **Grab yout IBM Quantum Platform at https://quantum.ibm.com/**\n",
        "- At the **Setup IBM Qiskit Key** step, make sure to change **\"< YOUR_IBM_QUANTUM_API_TOKEN >\"** with your real key."
      ],
      "metadata": {
        "id": "94kcGSp9pAX5"
      }
    },
    {
      "cell_type": "code",
      "execution_count": null,
      "metadata": {
        "id": "3VtUF8Pgm688"
      },
      "outputs": [],
      "source": [
        "!pip install qiskit qiskit-machine-learning qiskit-aer qiskit-ibm-runtime tensorflow"
      ]
    },
    {
      "cell_type": "code",
      "source": [
        "# imports\n",
        "# measurement tools\n",
        "import time\n",
        "import numpy as np\n",
        "import matplotlib.pyplot as plt\n",
        "\n",
        "# IBM Qiskit for quantum deep learning on GPU\n",
        "from qiskit import QuantumCircuit\n",
        "from qiskit_aer import AerSimulator\n",
        "from qiskit_ibm_runtime import QiskitRuntimeService, Session, Sampler\n",
        "from qiskit_machine_learning.kernels import FidelityQuantumKernel\n",
        "from qiskit_machine_learning.algorithms import QSVC\n",
        "from qiskit.circuit.library import ZZFeatureMap\n",
        "from qiskit.primitives import Sampler\n",
        "from qiskit_algorithms.state_fidelities import ComputeUncompute\n",
        "\n",
        "# TensorFlow  / Keras for deep learning on GPU\n",
        "import tensorflow as tf\n",
        "from tensorflow.keras.models import Sequential\n",
        "from tensorflow.keras.layers import Dense\n",
        "from tensorflow.keras.optimizers import Adam\n",
        "\n",
        "# Iris dataset\n",
        "from sklearn.datasets import load_iris\n",
        "from sklearn.preprocessing import StandardScaler\n",
        "from sklearn.model_selection import train_test_split\n"
      ],
      "metadata": {
        "id": "9L_AZwJUnGG9"
      },
      "execution_count": null,
      "outputs": []
    },
    {
      "cell_type": "markdown",
      "source": [
        "Setup IBM Qiskit key"
      ],
      "metadata": {
        "id": "q7h3rAfGoP5g"
      }
    },
    {
      "cell_type": "code",
      "source": [
        "# Save your IBM Quantum account (Replace <YOUR_IBM_QUANTUM_API_TOKEN> with your actual token)\n",
        "QiskitRuntimeService.save_account(\n",
        "    channel=\"ibm_quantum\",\n",
        "    token=\"<YOUR_IBM_QUANTUM_API_TOKEN>\",\n",
        "    overwrite=True\n",
        "    )\n",
        "\n",
        "# Load the saved account\n",
        "service = QiskitRuntimeService(channel=\"ibm_quantum\")\n"
      ],
      "metadata": {
        "id": "KDVsHvKFn-ct"
      },
      "execution_count": null,
      "outputs": []
    },
    {
      "cell_type": "markdown",
      "source": [
        "Load the Iris dataset"
      ],
      "metadata": {
        "id": "w-6kR1SAoVHR"
      }
    },
    {
      "cell_type": "code",
      "source": [
        "# Load the Iris dataset\n",
        "iris = load_iris()\n",
        "X = iris.data\n",
        "y = iris.target\n",
        "\n",
        "# Use only two classes for binary classification (Setosa and Versicolor)\n",
        "X = X[y != 2]\n",
        "y = y[y != 2]\n",
        "\n",
        "# Standardize the features\n",
        "scaler = StandardScaler()\n",
        "X_scaled = scaler.fit_transform(X)\n",
        "\n",
        "# Split the dataset into training and testing sets\n",
        "X_train, X_test, y_train, y_test = train_test_split(X_scaled, y, test_size=0.2, random_state=42)\n"
      ],
      "metadata": {
        "id": "fL9Gw-TaoOP_"
      },
      "execution_count": null,
      "outputs": []
    },
    {
      "cell_type": "markdown",
      "source": [
        "Define Quantum Kernel using primitives with 100 qubits"
      ],
      "metadata": {
        "id": "8U7xP9h2odiU"
      }
    },
    {
      "cell_type": "code",
      "source": [
        "# Increase the feature dimension to 100\n",
        "feature_dimension = 100\n",
        "\n",
        "# Define the feature map with increased feature dimension\n",
        "feature_map = ZZFeatureMap(feature_dimension=feature_dimension, reps=2, entanglement=\"linear\")\n",
        "\n",
        "# Define the sampler\n",
        "sampler = Sampler()\n",
        "\n",
        "# Define the fidelity\n",
        "fidelity = ComputeUncompute(sampler=sampler)\n",
        "\n",
        "# Define the quantum kernel\n",
        "quantum_kernel = FidelityQuantumKernel(fidelity=fidelity, feature_map=feature_map)\n"
      ],
      "metadata": {
        "id": "g6NmWcLpohW0"
      },
      "execution_count": null,
      "outputs": []
    },
    {
      "cell_type": "markdown",
      "source": [
        "Simulating\n",
        "This step trains and evaluates the model with the IBM Qiskit simulator, good practice before running on an actual quantum processing unit."
      ],
      "metadata": {
        "id": "uA6UxF_holcg"
      }
    },
    {
      "cell_type": "code",
      "source": [
        "# Set up the simulator\n",
        "simulator = AerSimulator()\n",
        "\n",
        "# Define Quantum Kernel using the simulator\n",
        "fidelity = ComputeUncompute(sampler=sampler)\n",
        "quantum_kernel = FidelityQuantumKernel(fidelity=fidelity, feature_map=feature_map)\n",
        "\n",
        "# Train QSVC model and measure time\n",
        "start_time = time.time()\n",
        "qsvc = QSVC(quantum_kernel=quantum_kernel)\n",
        "qsvc.fit(X_train, y_train)\n",
        "qsvc_score_sim = qsvc.score(X_test, y_test)\n",
        "quantum_time_sim = time.time() - start_time\n",
        "\n",
        "print(f\"QSVC classification test score with simulator: {qsvc_score_sim}\")\n",
        "print(f\"QSVC training time with simulator: {quantum_time_sim} seconds\")\n"
      ],
      "metadata": {
        "colab": {
          "base_uri": "https://localhost:8080/"
        },
        "id": "S6qTc3sroynt",
        "outputId": "85933e2e-b7ec-4b5b-f0b1-01225017357a"
      },
      "execution_count": null,
      "outputs": [
        {
          "output_type": "stream",
          "name": "stdout",
          "text": [
            "QSVC classification test score with simulator: 0.6\n",
            "QSVC training time with simulator: 28.691285371780396 seconds\n"
          ]
        }
      ]
    },
    {
      "cell_type": "markdown",
      "source": [
        "Real Quantum Backend"
      ],
      "metadata": {
        "id": "ErTcWknBo0Tl"
      }
    },
    {
      "cell_type": "code",
      "source": [
        "# Choose a real backend\n",
        "backend = service.least_busy(operational=True, simulator=False, min_num_qubits=100)\n",
        "\n",
        "# Use a Session to run the QSVC on the real backend\n",
        "with Session(service=service, backend=backend) as session:\n",
        "    sampler = Sampler()\n",
        "    fidelity = ComputeUncompute(sampler=sampler)\n",
        "    quantum_kernel = FidelityQuantumKernel(fidelity=fidelity, feature_map=feature_map)\n",
        "\n",
        "    # Train QSVC model and measure time\n",
        "    start_time = time.time()\n",
        "    qsvc = QSVC(quantum_kernel=quantum_kernel)\n",
        "    qsvc.fit(X_train, y_train)\n",
        "    qsvc_score_real = qsvc.score(X_test, y_test)\n",
        "    quantum_time_real = time.time() - start_time\n",
        "\n",
        "    print(f\"QSVC classification test score with real quantum backend: {qsvc_score_real}\")\n",
        "    print(f\"QSVC training time with real quantum backend: {quantum_time_real} seconds\")\n"
      ],
      "metadata": {
        "colab": {
          "base_uri": "https://localhost:8080/"
        },
        "id": "9KyWgftzo1tc",
        "outputId": "5354ef3e-caae-4182-c889-8520b45df5d5"
      },
      "execution_count": null,
      "outputs": [
        {
          "output_type": "stream",
          "name": "stdout",
          "text": [
            "QSVC classification test score with real quantum backend: 0.6\n",
            "QSVC training time with real quantum backend: 27.469263315200806 seconds\n"
          ]
        }
      ]
    },
    {
      "cell_type": "markdown",
      "source": [
        "---\n",
        "GPU"
      ],
      "metadata": {
        "id": "vLQJgd3Zo5WG"
      }
    },
    {
      "cell_type": "code",
      "source": [
        "# Check if TensorFlow is using GPU\n",
        "print(\"Num GPUs Available: \", len(tf.config.list_physical_devices('GPU')))\n"
      ],
      "metadata": {
        "colab": {
          "base_uri": "https://localhost:8080/"
        },
        "id": "4xZZPIcgo8qQ",
        "outputId": "71833b2c-f9e8-48b4-b836-304386672a4c"
      },
      "execution_count": null,
      "outputs": [
        {
          "output_type": "stream",
          "name": "stdout",
          "text": [
            "Num GPUs Available:  1\n"
          ]
        }
      ]
    },
    {
      "cell_type": "code",
      "source": [
        "# Define the classical neural network model\n",
        "model = Sequential([\n",
        "    Dense(64, activation='relu', input_shape=(4,)),\n",
        "    Dense(32, activation='relu'),\n",
        "    Dense(1, activation='sigmoid')\n",
        "])\n",
        "\n",
        "# Compile the model\n",
        "model.compile(optimizer=Adam(learning_rate=0.001), loss='binary_crossentropy', metrics=['accuracy'])\n",
        "\n",
        "# Train the model and measure time\n",
        "start_time = time.time()\n",
        "history = model.fit(X_train, y_train, epochs=50, batch_size=16, validation_split=0.2, verbose=0)\n",
        "classical_time = time.time() - start_time\n",
        "\n",
        "# Evaluate the model\n",
        "_, classical_score = model.evaluate(X_test, y_test, verbose=0)\n",
        "\n",
        "print(f\"Classical neural network test score: {classical_score}\")\n",
        "print(f\"Classical neural network training time: {classical_time} seconds\")\n"
      ],
      "metadata": {
        "colab": {
          "base_uri": "https://localhost:8080/"
        },
        "id": "vGXXcyv9o990",
        "outputId": "3b9f5a40-82ef-48a8-991a-81ac3db452e7"
      },
      "execution_count": null,
      "outputs": [
        {
          "output_type": "stream",
          "name": "stdout",
          "text": [
            "Classical neural network test score: 1.0\n",
            "Classical neural network training time: 4.302614688873291 seconds\n"
          ]
        }
      ]
    },
    {
      "cell_type": "markdown",
      "source": [
        "Arena Final Results"
      ],
      "metadata": {
        "id": "rcUWWk2MpJPZ"
      }
    },
    {
      "cell_type": "code",
      "source": [
        "# Plot training time comparison\n",
        "labels = ['Quantum (Sim)', 'Quantum (Real)', 'Classical']\n",
        "times = [quantum_time_sim, quantum_time_real, classical_time]\n",
        "\n",
        "plt.bar(labels, times, color=['blue', 'green', 'orange'])\n",
        "plt.ylabel('Training Time (seconds)')\n",
        "plt.title('Training Time Comparison')\n",
        "plt.show()\n",
        "\n",
        "# Plot accuracy comparison\n",
        "scores = [qsvc_score_sim, qsvc_score_real, classical_score]\n",
        "\n",
        "plt.bar(labels, scores, color=['blue', 'green', 'orange'])\n",
        "plt.ylabel('Test Accuracy')\n",
        "plt.title('Test Accuracy Comparison')\n",
        "plt.show()\n"
      ],
      "metadata": {
        "colab": {
          "base_uri": "https://localhost:8080/",
          "height": 887
        },
        "id": "PF87zN9UpLMc",
        "outputId": "245d1961-da7e-4e38-e938-3ab8fe02d9f0"
      },
      "execution_count": null,
      "outputs": [
        {
          "output_type": "display_data",
          "data": {
            "text/plain": [
              "<Figure size 640x480 with 1 Axes>"
            ],
            "image/png": "[encoded data removed]"
          },
          "metadata": {}
        },
        {
          "output_type": "display_data",
          "data": {
            "text/plain": [
              "<Figure size 640x480 with 1 Axes>"
            ],
            "image/png": "[encoded data removed]"
          },
          "metadata": {}
        }
      ]
    }
  ]
}